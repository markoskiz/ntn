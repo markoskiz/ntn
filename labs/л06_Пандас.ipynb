{
 "cells": [
  {
   "cell_type": "markdown",
   "id": "84be82bf-2372-47d3-98c6-d5be4ee6aa33",
   "metadata": {
    "tags": []
   },
   "source": [
    "# Пандас\n",
    "\n",
    "## Лабораториска вежба 6"
   ]
  },
  {
   "cell_type": "markdown",
   "id": "37d99a43",
   "metadata": {},
   "source": [
    "Целта на оваа лабораториска вежба е да се запознаете со библиотеката [Пандас](https://pandas.pydata.org/docs/getting_started/index.html) која служи за работа со податоци, претежно во областа на науката за податоци и машинското учење.\n",
    "\n",
    "Следете ги [упатствата предложени од Пандас](https://pandas.pydata.org/docs/getting_started/intro_tutorials/index.html) или пак [упатствата од guipsamora](https://github.com/guipsamora/pandas_exercises).\n",
    "\n",
    "- Од линкот што води до Гитхаб, изберете по една тетратка со проблеми од следните теми:\n",
    "    - [Getting and knowing](https://github.com/guipsamora/pandas_exercises/tree/master/01_Getting_%26_Knowing_Your_Data)\n",
    "    - [Filtering and Sorting](https://github.com/guipsamora/pandas_exercises/tree/master/02_Filtering_%26_Sorting)\n",
    "    - [Visualization](https://github.com/guipsamora/pandas_exercises/tree/master/07_Visualization)\n",
    "    - [Creating Series and DataFrames](https://github.com/guipsamora/pandas_exercises/tree/master/08_Creating_Series_and_DataFrames)\n",
    "    - [Deleting](https://github.com/guipsamora/pandas_exercises/tree/master/08_Creating_Series_and_DataFrames)\n"
   ]
  },
  {
   "cell_type": "code",
   "execution_count": null,
   "id": "e3395917-73a4-4475-8097-d42f401cfc56",
   "metadata": {},
   "outputs": [],
   "source": []
  },
  {
   "cell_type": "code",
   "execution_count": null,
   "id": "38608ad7-fd7e-4a09-8d04-0783c709b1ab",
   "metadata": {},
   "outputs": [],
   "source": []
  },
  {
   "cell_type": "code",
   "execution_count": null,
   "id": "bdbfb356",
   "metadata": {},
   "outputs": [],
   "source": []
  }
 ],
 "metadata": {
  "kernelspec": {
   "display_name": "Python 3 (ipykernel)",
   "language": "python",
   "name": "python3"
  },
  "language_info": {
   "codemirror_mode": {
    "name": "ipython",
    "version": 3
   },
   "file_extension": ".py",
   "mimetype": "text/x-python",
   "name": "python",
   "nbconvert_exporter": "python",
   "pygments_lexer": "ipython3",
   "version": "3.11.5"
  }
 },
 "nbformat": 4,
 "nbformat_minor": 5
}
