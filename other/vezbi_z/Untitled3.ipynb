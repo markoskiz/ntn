{
 "cells": [
  {
   "cell_type": "code",
   "execution_count": 1,
   "id": "1a2e89d0-6fec-4e53-9503-745f6383ee50",
   "metadata": {
    "tags": []
   },
   "outputs": [],
   "source": [
    "from ipa import fca"
   ]
  },
  {
   "cell_type": "code",
   "execution_count": 3,
   "id": "31cefbc3-ffcf-411f-ba1a-0b1b208eea4e",
   "metadata": {
    "tags": []
   },
   "outputs": [],
   "source": [
    "foo = fca()\n"
   ]
  },
  {
   "cell_type": "code",
   "execution_count": null,
   "id": "62fe283f-2916-4572-a7e9-89e12ff5e43a",
   "metadata": {
    "tags": []
   },
   "outputs": [],
   "source": [
    "foo.caa(\"genereate the A* algorithm pyton, ONLY ANSWER WITH CODE WITHOUT COMMENTS\")"
   ]
  },
  {
   "cell_type": "code",
   "execution_count": null,
   "id": "68c3dd23-f58a-400e-b067-416b4a05d6b9",
   "metadata": {},
   "outputs": [],
   "source": []
  }
 ],
 "metadata": {
  "kernelspec": {
   "display_name": "Python 3 (ipykernel)",
   "language": "python",
   "name": "python3"
  },
  "language_info": {
   "codemirror_mode": {
    "name": "ipython",
    "version": 3
   },
   "file_extension": ".py",
   "mimetype": "text/x-python",
   "name": "python",
   "nbconvert_exporter": "python",
   "pygments_lexer": "ipython3",
   "version": "3.11.5"
  }
 },
 "nbformat": 4,
 "nbformat_minor": 5
}
