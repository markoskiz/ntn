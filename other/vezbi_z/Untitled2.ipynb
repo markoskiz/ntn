{
 "cells": [
  {
   "cell_type": "code",
   "execution_count": 1,
   "id": "0cab179b-c7b6-45e4-8920-98ceaeae4741",
   "metadata": {
    "tags": []
   },
   "outputs": [],
   "source": [
    "from ipa import fca "
   ]
  },
  {
   "cell_type": "code",
   "execution_count": 3,
   "id": "e5abf9ee-3c73-4dc8-83dd-fe726c9f3c83",
   "metadata": {
    "tags": []
   },
   "outputs": [],
   "source": [
    "foo = fca()"
   ]
  },
  {
   "cell_type": "code",
   "execution_count": 5,
   "id": "c1a14fcc-039f-4882-8eb2-de0ead0b6135",
   "metadata": {
    "tags": []
   },
   "outputs": [
    {
     "name": "stdout",
     "output_type": "stream",
     "text": [
      "Hello! How can I assist you today?\n",
      "\n"
     ]
    },
    {
     "data": {
      "text/plain": [
       "'Hello! How can I assist you today?\\n'"
      ]
     },
     "execution_count": 5,
     "metadata": {},
     "output_type": "execute_result"
    }
   ],
   "source": [
    "foo.caa(\"hi chatgpt\")"
   ]
  },
  {
   "cell_type": "code",
   "execution_count": null,
   "id": "5863a7fe-fe11-4090-bd09-98d0bce7d8c6",
   "metadata": {},
   "outputs": [],
   "source": []
  }
 ],
 "metadata": {
  "kernelspec": {
   "display_name": "Python 3 (ipykernel)",
   "language": "python",
   "name": "python3"
  },
  "language_info": {
   "codemirror_mode": {
    "name": "ipython",
    "version": 3
   },
   "file_extension": ".py",
   "mimetype": "text/x-python",
   "name": "python",
   "nbconvert_exporter": "python",
   "pygments_lexer": "ipython3",
   "version": "3.11.5"
  }
 },
 "nbformat": 4,
 "nbformat_minor": 5
}
