{
 "cells": [
  {
   "cell_type": "markdown",
   "id": "1c636ce3-e064-482d-964f-f98b7440797a",
   "metadata": {},
   "source": [
    "# Испит по Основи на Вештачката Интелигенција - 1/2\n",
    "\n",
    "**Датум**: 08.02.2024"
   ]
  },
  {
   "cell_type": "markdown",
   "id": "e6caf5c9-3042-4d42-a540-162901f39104",
   "metadata": {},
   "source": [
    "## Проблем 1 - Кутии\n",
    "\n",
    "Пред вас имате табла со 10 редови и 20 колони. Ова е светот во кој се движи агентот означен со знакот `🔷`. Неговата работа е да се движи до зададените полиња означени со `🟢`. За полесно означување, ќе ги користиме ознаките:\n",
    "- Ознака за празно место: знакот `·` или бројот 0.\n",
    "- Ознака за агент: знакот `🔷` или бројот 1.\n",
    "- Ознака за поле целно поле: знакот `🟢` или бројот 2.\n",
    "\n",
    "### Задача 1\n",
    "\n",
    "#### Цел\n",
    "- Целта е агентот `🔷` да стапне на кои било 2 зелени полиња `🟢` од понудените 3, така што ќе помине најмал пат.\n",
    "\n",
    "#### Правила\n",
    "- Агентот смее да се движи во сите осум насоки.\n",
    "- Секој чекор на агентот е со должина 1 (едно поле).\n",
    "- Агентот не смее да излезе надвор од таблата.\n",
    "\n",
    "#### Прашања\n",
    "1. **(10 поени)** Постави го овој проблем како проблем за пребарување.\n",
    "    1. Како ќе ја дефнинираш состојбата за овој проблем? Објасни зошто ја избираш предложената дефиниција за состојба.\n",
    "    \n",
    "    1. Како ќе ја дефинираш почетната состојба, а како ќе ја дефинираш крајната состојба?\n",
    "    \n",
    "    1. Дали за проверка за крајна состојба ќе користиш состојба или функција за проверка дали е постигната целта?\n",
    "    \n",
    "    1. Која податочна структура ќе ја искористиш за да ја зачуваш информацијата за состојбата?\n",
    "    \n",
    "1. **(10 поени)** Објасни како ќе се одвива разгранувањето за дадена состојба, преку функцијата `expand_state()`?\n",
    "\n",
    "1. **(30 поени)** Имплементирај го избраниот алгоритам користејќи пајтон, па отпечати барем едно можно решение на проблемот.\n",
    "\n",
    "Таблата B, како објект од класата Board, служи за исцртување на решението. Можеш да ја користиш како помош при решавањето, а може и сам да си имплементираш решение за прикажување на состојбата на светот во која се наоѓа агентот. Ако ти треба нова табла, слободно направи нов објект од класата."
   ]
  },
  {
   "cell_type": "code",
   "execution_count": 2,
   "id": "32e084e7-c880-4cf3-8ffc-d6aefed74a88",
   "metadata": {
    "tags": []
   },
   "outputs": [
    {
     "data": {
      "application/vnd.jupyter.widget-view+json": {
       "model_id": "a00c1861ecd14c01a77a51b42d26893f",
       "version_major": 2,
       "version_minor": 0
      },
      "text/plain": [
       "Board()"
      ]
     },
     "execution_count": 2,
     "metadata": {},
     "output_type": "execute_result"
    }
   ],
   "source": [
    "from exam_help import Board, generate_random_table\n",
    "from collections import deque\n",
    "import heapq\n",
    "\n",
    "ROWS, COLS = 10, 20\n",
    "B = Board(ROWS, COLS)\n",
    "B\n",
    "\n"
   ]
  },
  {
   "cell_type": "code",
   "execution_count": 3,
   "id": "76f7b153-0db9-44ff-ad06-7a2b3f0f3479",
   "metadata": {
    "tags": []
   },
   "outputs": [],
   "source": [
    "random_table = generate_random_table(n_rows=ROWS, n_cols=COLS, n_agents=1, n_goal_fields=3)\n",
    "B.update(random_table)"
   ]
  },
  {
   "cell_type": "code",
   "execution_count": 4,
   "id": "6ec4888a-46ee-4f2c-87d6-df9afcf46a3a",
   "metadata": {
    "tags": []
   },
   "outputs": [],
   "source": [
    "## objasnuvanje\n",
    "# sostojbata ke ja definirame kako triple (x, y, poseteni) lokacijata i frozen set od vrednosti za poseteni goals, a startnata sostojba se x_start y_start i posteni {}\n",
    "# "
   ]
  },
  {
   "cell_type": "code",
   "execution_count": 5,
   "id": "3807e456-f607-459c-b9b7-6fb9c12fdbf7",
   "metadata": {
    "tags": []
   },
   "outputs": [
    {
     "name": "stdout",
     "output_type": "stream",
     "text": [
      "Startna pozicija:  (7, 16)\n",
      "Celi:  [(1, 0), (1, 11), (7, 7)]\n"
     ]
    }
   ],
   "source": [
    "start = None\n",
    "goals = []\n",
    "for i in range(ROWS):\n",
    "    for j in range(COLS):\n",
    "        if random_table[i][j] == 1:\n",
    "            start = (i, j)\n",
    "        elif random_table[i][j] == 2:\n",
    "            goals.append((i, j))\n",
    "            \n",
    "print(\"Startna pozicija: \", start)\n",
    "print(\"Celi: \", goals)"
   ]
  },
  {
   "cell_type": "code",
   "execution_count": 6,
   "id": "4b1c04f6-23a1-4e64-8036-201e3fcd008f",
   "metadata": {
    "tags": []
   },
   "outputs": [
    {
     "name": "stdout",
     "output_type": "stream",
     "text": [
      "(7, 16)\n",
      "[(1, 0), (1, 11), (7, 7)]\n"
     ]
    }
   ],
   "source": [
    "pocetna_poz = None\n",
    "goals = []\n",
    "for i in range(ROWS):\n",
    "    for j in range(COLS):\n",
    "        if random_table[i][j] == 1:\n",
    "            pocetna_poz = (i, j)\n",
    "        elif random_table[i][j] == 2:\n",
    "            goals.append((i, j))\n",
    "            \n",
    "print(pocetna_poz)\n",
    "print(goals)"
   ]
  },
  {
   "cell_type": "code",
   "execution_count": 9,
   "id": "50adbae5-ebf7-4d4d-8bd2-2ee8257c3795",
   "metadata": {
    "tags": []
   },
   "outputs": [
    {
     "name": "stdout",
     "output_type": "stream",
     "text": [
      "Најдено решение: ([None, (7, 16, frozenset()), (6, 16, frozenset()), (5, 15, frozenset()), (4, 14, frozenset()), (3, 13, frozenset()), (2, 12, frozenset()), (1, 11, frozenset({(1, 11)})), (2, 11, frozenset({(1, 11)})), (3, 11, frozenset({(1, 11)})), (4, 10, frozenset({(1, 11)})), (5, 9, frozenset({(1, 11)})), (6, 8, frozenset({(1, 11)})), (7, 7, frozenset({(1, 11), (7, 7)}))], 1890)\n"
     ]
    }
   ],
   "source": [
    "# BFS PO SIRINA\n",
    "def bfs_search(board, start, goals):\n",
    "    rows, cols = len(board), len(board[0])\n",
    "    start_state = (start[0], start[1], frozenset())\n",
    "    \n",
    "    queue = deque([start_state])\n",
    "    visited = set()\n",
    "    visited.add(start_state)\n",
    "    came_from = {start_state: None}\n",
    "    broj_na_kombinacii = 0\n",
    "    \n",
    "    while queue:\n",
    "        x, y, visited_goals = queue.popleft()\n",
    "        \n",
    "        if len(visited_goals) == 2:\n",
    "            path = reconstruct_path(came_from, (x, y, visited_goals))\n",
    "            return (path, broj_na_kombinacii)\n",
    "        \n",
    "        new_states = expand_state(x, y, visited_goals, board)\n",
    "        for new_state in new_states:\n",
    "            broj_na_kombinacii += 1\n",
    "            if new_state not in visited:\n",
    "                visited.add(new_state)\n",
    "                queue.append(new_state)\n",
    "                came_from[new_state] = (x, y, visited_goals)\n",
    "    \n",
    "    return None, broj_na_kombinacii\n",
    "\n",
    "result = bfs_search(random_table, start, goals)\n",
    "print(\"Најдено решение:\", result)"
   ]
  },
  {
   "cell_type": "code",
   "execution_count": 10,
   "id": "81858973-a4a4-4de7-aa8d-b2dcfb887f4a",
   "metadata": {
    "tags": []
   },
   "outputs": [
    {
     "name": "stdout",
     "output_type": "stream",
     "text": [
      "Најден пат: [(7, 16, frozenset()), (6, 15, frozenset()), (5, 14, frozenset()), (4, 13, frozenset()), (3, 12, frozenset()), (2, 11, frozenset()), (1, 11, frozenset({(1, 11)})), (2, 10, frozenset({(1, 11)})), (3, 9, frozenset({(1, 11)})), (4, 8, frozenset({(1, 11)})), (5, 7, frozenset({(1, 11)})), (6, 7, frozenset({(1, 11)})), (7, 7, frozenset({(1, 11), (7, 7)}))]\n",
      "Број на комбинации: 2516\n",
      "Чекори за најбрз пат: 12\n"
     ]
    }
   ],
   "source": [
    "# A* NACIN\n",
    "\n",
    "import heapq\n",
    "from exam_help import Board, generate_random_table\n",
    "\n",
    "def heuristic(x, y, goals):\n",
    "    return min(abs(x - gx) + abs(y - gy) for gx, gy in goals) \n",
    "\n",
    "def expand_state(x, y, visited_goals, board):\n",
    "    directions = [(-1, 0), (1, 0), (0, -1), (0, 1), (-1, -1), (1, -1), (-1, 1), (1, 1)]\n",
    "    rows, cols = len(board), len(board[0])\n",
    "    new_states = []\n",
    "    \n",
    "    for dx, dy in directions:\n",
    "        nx, ny = x + dx, y + dy\n",
    "        if 0 <= nx < rows and 0 <= ny < cols:\n",
    "            new_visited_goals = visited_goals.copy()\n",
    "            if board[nx][ny] == 2:\n",
    "                new_visited_goals = new_visited_goals | {(nx, ny)}\n",
    "            \n",
    "            new_state = (nx, ny, frozenset(new_visited_goals))\n",
    "            new_states.append(new_state)\n",
    "    \n",
    "    return new_states\n",
    "\n",
    "def a_star_search(board, start, goals):\n",
    "    rows, cols = len(board), len(board[0])\n",
    "    start_state = (start[0], start[1], frozenset())\n",
    "    goal_count = 2\n",
    "    \n",
    "    open_set = []\n",
    "    heapq.heappush(open_set, (0, start_state))\n",
    "    g_score = {start_state: 0}\n",
    "    f_score = {start_state: heuristic(start[0], start[1], goals)}\n",
    "    came_from = {}\n",
    "    kombinacii = 0\n",
    "    \n",
    "    while open_set:\n",
    "        _, current = heapq.heappop(open_set)\n",
    "        x, y, visited_goals = current\n",
    "        \n",
    "        if len(visited_goals) == goal_count:\n",
    "            path = reconstruct_path(came_from, current)\n",
    "            return (path, kombinacii)\n",
    "        \n",
    "        new_states = expand_state(x, y, visited_goals, board)\n",
    "        for new_state in new_states:\n",
    "            nx, ny, new_visited_goals = new_state\n",
    "            tentative_g_score = g_score[current] + 1\n",
    "            kombinacii += 1\n",
    "            if new_state not in g_score or tentative_g_score < g_score[new_state]:\n",
    "                came_from[new_state] = current\n",
    "                g_score[new_state] = tentative_g_score\n",
    "                f_score[new_state] = tentative_g_score + heuristic(nx, ny, goals)\n",
    "                heapq.heappush(open_set, (f_score[new_state], new_state))\n",
    "    \n",
    "    return None, kombinacii\n",
    "\n",
    "def reconstruct_path(came_from, current):\n",
    "    total_path = [current]\n",
    "    while current in came_from:\n",
    "        current = came_from[current]\n",
    "        total_path.append(current)\n",
    "    total_path.reverse()\n",
    "    return total_path\n",
    "path, combinations = a_star_search(random_table, start, goals)\n",
    "print(\"Најден пат:\", path)\n",
    "print(\"Број на комбинации:\", combinations)\n",
    "print(\"Чекори за најбрз пат:\", len(path) - 1)"
   ]
  },
  {
   "cell_type": "code",
   "execution_count": null,
   "id": "1f2c8e87-6d75-49a6-a658-24166dab5e5f",
   "metadata": {},
   "outputs": [],
   "source": []
  },
  {
   "cell_type": "code",
   "execution_count": null,
   "id": "90a6973b-eeb2-4564-872c-52eff0f01aaf",
   "metadata": {},
   "outputs": [],
   "source": []
  }
 ],
 "metadata": {
  "kernelspec": {
   "display_name": "Python 3 (ipykernel)",
   "language": "python",
   "name": "python3"
  },
  "language_info": {
   "codemirror_mode": {
    "name": "ipython",
    "version": 3
   },
   "file_extension": ".py",
   "mimetype": "text/x-python",
   "name": "python",
   "nbconvert_exporter": "python",
   "pygments_lexer": "ipython3",
   "version": "3.11.5"
  }
 },
 "nbformat": 4,
 "nbformat_minor": 5
}
